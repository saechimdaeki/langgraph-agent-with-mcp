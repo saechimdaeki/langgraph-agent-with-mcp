{
 "cells": [
  {
   "cell_type": "code",
   "execution_count": null,
   "id": "5a5f619a",
   "metadata": {},
   "outputs": [],
   "source": [
    "from dotenv import load_dotenv\n",
    "\n",
    "load_dotenv()"
   ]
  },
  {
   "cell_type": "code",
   "execution_count": null,
   "id": "fc0460c7",
   "metadata": {},
   "outputs": [],
   "source": [
    "from langchain_chroma import Chroma\n",
    "from langchain_ollama import OllamaEmbeddings\n",
    "from langchain_core.prompts import ChatPromptTemplate,PromptTemplate\n",
    "\n",
    "embeddings= OllamaEmbeddings(\n",
    "    model=\"nomic-embed-text:latest\"\n",
    ")\n",
    "\n",
    "vector_store= Chroma(\n",
    "    embedding_function= embeddings,\n",
    "    collection_name= \"income_tax_collection\",\n",
    "    persist_directory= \"./income_tax_collection\"\n",
    ")\n",
    "\n",
    "retriever = vector_store.as_retriever(search_kwargs={\"k\": 3})"
   ]
  },
  {
   "cell_type": "code",
   "execution_count": null,
   "id": "64715243",
   "metadata": {},
   "outputs": [],
   "source": [
    "from typing_extensions import TypedDict, List\n",
    "from langgraph.graph import StateGraph\n",
    "\n",
    "\n",
    "class AgentState(TypedDict):\n",
    "    query: str\n",
    "    context: list\n",
    "    answer: str\n",
    "\n",
    "graph_builder = StateGraph(AgentState)\n"
   ]
  },
  {
   "cell_type": "code",
   "execution_count": null,
   "id": "72ce7504",
   "metadata": {},
   "outputs": [],
   "source": [
    "def retrieve(state: AgentState):\n",
    "    query = state[\"query\"]\n",
    "    docs = retriever.invoke(query)\n",
    "    return {\"context\": docs}"
   ]
  },
  {
   "cell_type": "code",
   "execution_count": null,
   "id": "40d3678d",
   "metadata": {},
   "outputs": [],
   "source": [
    "from langchain_ollama import ChatOllama\n",
    "\n",
    "llm = ChatOllama(\n",
    "    model=\"deepseek-r1:1.5b\",\n",
    "    temperature=0\n",
    ")"
   ]
  },
  {
   "cell_type": "code",
   "execution_count": null,
   "id": "02c85307",
   "metadata": {},
   "outputs": [],
   "source": [
    "from langchain import hub\n",
    "from langchain_core.output_parsers import StrOutputParser\n",
    "\n",
    "generate_prompt = hub.pull(\"rlm/rag-prompt\")\n",
    "\n",
    "\n",
    "def generate(state: AgentState) -> AgentState:\n",
    "    context = state[\"context\"]\n",
    "    query = state[\"query\"]\n",
    "    rag_chain = generate_prompt | llm | StrOutputParser()\n",
    "    response = rag_chain.invoke({\"question\": query, \"context\": context})\n",
    "    return {\"answer\": response}"
   ]
  },
  {
   "cell_type": "code",
   "execution_count": null,
   "id": "6849bd4d",
   "metadata": {},
   "outputs": [],
   "source": [
    "from langchain import hub\n",
    "from typing import Literal\n",
    "\n",
    "doc_relevance_prompt = hub.pull(\"langchain-ai/rag-document-relevance\")\n",
    "\n",
    "\n",
    "def check_doc_relevance(state: AgentState) -> Literal[\"relevant\", \"irrelevant\"]:\n",
    "    query = state[\"query\"]\n",
    "    context = state[\"context\"]\n",
    "    doc_relevance_chain = doc_relevance_prompt | llm\n",
    "    response = doc_relevance_chain.invoke({\"question\": query, \"context\": context})\n",
    "    if response['Score'] == 1:\n",
    "        return \"relevant\"\n",
    "    return \"irrelevant\""
   ]
  },
  {
   "cell_type": "code",
   "execution_count": null,
   "id": "deded54a",
   "metadata": {},
   "outputs": [],
   "source": [
    "from langchain_core.prompts import ChatPromptTemplate\n",
    "from langchain_core.output_parsers import StrOutputParser\n",
    "\n",
    "rewrite_prompt = PromptTemplate.from_template(\"\"\"사용자의 질문을 보고, 웹 검색에 용이하게 사용자의 질문을 수정해주세요\n",
    "질문: {query}\n",
    "\"\"\")\n",
    "\n",
    "def rewrite(state: AgentState) -> AgentState:\n",
    "    query = state[\"query\"]\n",
    "    rewrite_chain = rewrite_prompt | llm | StrOutputParser()\n",
    "    response = rewrite_chain.invoke({\"query\": query})\n",
    "    return {\"query\": response}\n"
   ]
  },
  {
   "cell_type": "code",
   "execution_count": null,
   "id": "d2ad26a5",
   "metadata": {},
   "outputs": [],
   "source": [
    "from langchain_community.tools import TavilySearchResults\n",
    "\n",
    "tavily_search_tool = TavilySearchResults(\n",
    "    max_results=3,\n",
    "    search_depth=\"advanced\",\n",
    "    include_answer=True,\n",
    "    include_raw_content=True,\n",
    "    include_images=True\n",
    ")\n",
    "\n",
    "def web_search(state:AgentState):\n",
    "    query = state[\"query\"]\n",
    "    results = tavily_search_tool.invoke(query)\n",
    "    return {\"context\": results}\n",
    "\n"
   ]
  },
  {
   "cell_type": "code",
   "execution_count": null,
   "id": "1fe62b93",
   "metadata": {},
   "outputs": [],
   "source": [
    "graph_builder.add_node(\"retrieve\", retrieve)\n",
    "graph_builder.add_node(\"generate\", generate)\n",
    "graph_builder.add_node(\"rewrite\", rewrite)\n",
    "graph_builder.add_node(\"web_search\", web_search)"
   ]
  },
  {
   "cell_type": "code",
   "execution_count": null,
   "id": "75375fe5",
   "metadata": {},
   "outputs": [],
   "source": [
    "from langgraph.graph import START, END\n",
    "\n",
    "graph_builder.add_edge(START, \"retrieve\")\n",
    "graph_builder.add_conditional_edges(\n",
    "    'retrieve',\n",
    "    check_doc_relevance,\n",
    "    {\n",
    "        'relevant': 'generate',\n",
    "        'irrelevant': 'rewrite'\n",
    "    }\n",
    ")\n",
    "\n",
    "graph_builder.add_edge('rewrite', 'web_search')\n",
    "graph_builder.add_edge('web_search', 'generate')"
   ]
  },
  {
   "cell_type": "code",
   "execution_count": null,
   "id": "6dc82859",
   "metadata": {},
   "outputs": [],
   "source": [
    "graph = graph_builder.compile()"
   ]
  },
  {
   "cell_type": "code",
   "execution_count": null,
   "id": "9f9d521d",
   "metadata": {},
   "outputs": [],
   "source": [
    "from IPython.display import Image, display\n",
    "\n",
    "display(Image(graph.get_graph().draw_mermaid_png()))"
   ]
  },
  {
   "cell_type": "code",
   "execution_count": null,
   "id": "bde9b808",
   "metadata": {},
   "outputs": [],
   "source": [
    "initial_state = {\"query\": \"연봉 8천만원 거주자의 소득세는 얼마인가요?\"}\n",
    "graph.invoke(initial_state)"
   ]
  },
  {
   "cell_type": "code",
   "execution_count": null,
   "id": "595b2a40",
   "metadata": {},
   "outputs": [],
   "source": [
    "initial_state = {'query' : '역삼역 맛집을 추천해주세요'}\n",
    "graph.invoke(initial_state)"
   ]
  }
 ],
 "metadata": {
  "language_info": {
   "name": "python"
  }
 },
 "nbformat": 4,
 "nbformat_minor": 5
}
