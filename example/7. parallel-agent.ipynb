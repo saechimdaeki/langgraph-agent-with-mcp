{
 "cells": [
  {
   "cell_type": "code",
   "execution_count": null,
   "id": "c911393a",
   "metadata": {},
   "outputs": [],
   "source": [
    "from dotenv import load_dotenv\n",
    "\n",
    "load_dotenv()"
   ]
  },
  {
   "cell_type": "code",
   "execution_count": null,
   "id": "16f5f271",
   "metadata": {},
   "outputs": [],
   "source": [
    "from typing_extensions import TypedDict\n",
    "from langgraph.graph import StateGraph\n",
    "\n",
    "\n",
    "class AgentState(TypedDict):\n",
    "    query: str  # 사용자 질문\n",
    "    answer: str  # 세율\n",
    "    tax_base_equation: str  # 과세표준 계싼 수식\n",
    "    tax_deduction: str  # 공제액\n",
    "    market_ratio: str  # 공정시장가액비율\n",
    "    tax_base: str  # 과세표준 계산\n",
    "    # 세율 계산\n",
    "\n",
    "graph_builder = StateGraph(AgentState)"
   ]
  },
  {
   "cell_type": "code",
   "execution_count": null,
   "id": "637af900",
   "metadata": {},
   "outputs": [],
   "source": [
    "from langchain_chroma import Chroma\n",
    "from langchain_ollama import OllamaEmbeddings\n",
    "\n",
    "embeddings= OllamaEmbeddings(\n",
    "    model=\"nomic-embed-text:latest\"\n",
    ")\n",
    "\n",
    "vector_store= Chroma(\n",
    "    embedding_function= embeddings,\n",
    "    collection_name= \"real_estate_tax\",\n",
    "    persist_directory= \"./real_estate_tax_collection\"\n",
    ")\n",
    "\n",
    "retriever = vector_store.as_retriever(search_kwargs={\"k\": 3})"
   ]
  },
  {
   "cell_type": "code",
   "execution_count": null,
   "id": "30ff4f64",
   "metadata": {},
   "outputs": [],
   "source": [
    "query = '5억짜리 집 1채, 10억짜리 집 1채, 20억짜리 집 1채를 가지고 있을 때 세금을 얼마나 내나요?'"
   ]
  },
  {
   "cell_type": "code",
   "execution_count": null,
   "id": "a951122d",
   "metadata": {},
   "outputs": [],
   "source": [
    "from langchain_ollama import ChatOllama\n",
    "from langchain import hub\n",
    "from langchain_core.output_parsers import StrOutputParser\n",
    "from langchain_core.runnables import RunnablePassthrough\n",
    "from langchain_core.prompts import ChatPromptTemplate,PromptTemplate\n",
    "\n",
    "llm = ChatOllama(\n",
    "    model=\"deepseek-r1:1.671b\",\n",
    "    temperature=0\n",
    ")\n",
    "\n",
    "small_llm = ChatOllama(\n",
    "    model=\"deepseek-r1:1.5b\",\n",
    "    temperature=0\n",
    ")\n",
    "\n",
    "rag_prompt = hub.pull(\"rlm/rag-prompt\")\n"
   ]
  },
  {
   "cell_type": "code",
   "execution_count": null,
   "id": "6d7b9bde",
   "metadata": {},
   "outputs": [],
   "source": [
    "tax_deduction_chain = (\n",
    "    {\"context\": retriever, \"question\": RunnablePassthrough()}\n",
    "    | rag_prompt\n",
    "    | llm\n",
    "    | StrOutputParser()\n",
    ")\n",
    "\n",
    "\n",
    "def get_tax_deduction(state: AgentState) -> AgentState:\n",
    "    \"\"\"\n",
    "    종합부동산세 공제금액에 관한 정보를 가져옵니다.\n",
    "    `node`로 활용되기 때문에 `state`를 인자로 받지만,\n",
    "    고정된 기능을 수행하기 때문에 `state`를 활용하지는 않습니다.\n",
    "\n",
    "    Args:\n",
    "        state (AgentState): 현재 에이전트의 state를 나타내는 객체입니다.\n",
    "\n",
    "    Returns:\n",
    "        AgentState: 'tax_deduction' 키를 포함하는 새로운 state를 반환합니다.\n",
    "    \"\"\"\n",
    "    tax_deduction_question = \"주택에 대한 종합부동산세 계산시 공제금액을 알려주세요\"\n",
    "\n",
    "    tax_deduction = tax_deduction_chain.invoke(tax_deduction_question)\n",
    "\n",
    "    return {\"tax_deduction\": tax_deduction}"
   ]
  },
  {
   "cell_type": "code",
   "execution_count": null,
   "id": "24510334",
   "metadata": {},
   "outputs": [],
   "source": [
    "tax_base_retrieval_chain = (\n",
    "    {\"context\": retriever, \"question\": RunnablePassthrough()}\n",
    "    | rag_prompt\n",
    "    | llm\n",
    "    | StrOutputParser()\n",
    ")\n",
    "\n",
    "\n",
    "tax_base_equation_prompt = ChatPromptTemplate.from_messages(\n",
    "    [\n",
    "        (\n",
    "            \"system\",\n",
    "            \"사용자의 질문에서 과세표준을 계산하는 방법을 수식으로 표현해서 알려주세요\",\n",
    "        ),\n",
    "        (\"human\", \"{tax_base_equation_information}\"),\n",
    "    ]\n",
    ")\n",
    "\n",
    "tax_base_equation_chain = (\n",
    "    {\"tax_base_equation_information\": RunnablePassthrough()}\n",
    "    | tax_base_equation_prompt\n",
    "    | llm\n",
    "    | StrOutputParser()\n",
    ")\n",
    "\n",
    "tax_base_chain = {\n",
    "    \"tax_base_equation_information\": tax_base_retrieval_chain\n",
    "} | tax_base_equation_chain\n",
    "\n",
    "\n",
    "def get_tax_base_equation(state: AgentState):\n",
    "    tax_base_equation_question = (\n",
    "        \"주택에 대한 종합부동산세 계산시 과세표준을 계산하는 방법을 알려주세요\"\n",
    "    )\n",
    "    tax_base_equation = tax_base_equation_chain.invoke(tax_base_equation_question)\n",
    "    return state[\"tax_base_equation\":tax_base_equation]"
   ]
  },
  {
   "cell_type": "code",
   "execution_count": null,
   "id": "95669975",
   "metadata": {},
   "outputs": [],
   "source": [
    "from langchain_community.tools import TavilySearchResults\n",
    "\n",
    "tavily_search_tool = TavilySearchResults(\n",
    "    max_results = 3,\n",
    "    search_depth = \"advanced\",\n",
    "    include_answer= True,\n",
    "    include_raw_content=True,\n",
    "    include_images=True\n",
    ")\n",
    "\n",
    "tax_market_ration_prompt = ChatPromptTemplate.from_messages([\n",
    "    ('system', f'아래 정보를 기반으로 오늘 날짜:({date.today()})에 해당하는 공정시장 가액비율을 계산해주세요\\n\\nContext:\\n{{context}}'),\n",
    "    ('human', '{query}')\n",
    "])\n",
    "\n",
    "def get_market_ratio(state: AgentState):\n",
    "    query = \"주택 공시가격 공정시장가액비율은 몇%인가요?\"\n",
    "    context = tavily_search_tool.invoke(query)\n",
    "    tax_market_ration_chain = tax_market_ration_prompt | llm | StrOutputParser()\n",
    "\n",
    "    market_ratio = tax_market_ration_chain.invoke({'context':context,'query':query})\n",
    "    return {'market_ration': market_ratio}"
   ]
  },
  {
   "cell_type": "code",
   "execution_count": null,
   "id": "36540f37",
   "metadata": {},
   "outputs": [],
   "source": [
    "from langchain_core.prompts import PromptTemplate\n",
    "\n",
    "tax_base_calculation_prompt = PromptTemplate.from_template(\"\"\"\n",
    "    주어진 내용을 기반으로 과세표준을 계산해주세요\n",
    "\n",
    "    과세표준 계산 공식:{tax_base_equation}\n",
    "    공제금액: {tax_deduction}\n",
    "    공정시장가액비율: {market_ratio}\n",
    "    사용자 주택 공시가격 정보: {query}\n",
    "\"\"\")\n",
    "\n",
    "def calculate_tax_base(state: AgentState):\n",
    "    tax_base_equation = state['tax_base_equation']\n",
    "    tax_deduction = state['tax_deduction']\n",
    "    market_ratio = state['market_ratio']\n",
    "    query = state['query']\n",
    "    tax_base_calculation_chain = tax_base_calculation_prompt | llm | StrOutputParser()\n",
    "    tax_base = tax_base_calculation_chain.invoke({'tax_base_equation': tax_base_equation, 'tax_deduction': tax_deduction, 'market_ratio': market_ratio, 'query': query})\n",
    "    return {'tax_base': tax_base}"
   ]
  },
  {
   "cell_type": "code",
   "execution_count": null,
   "id": "9cfc7ff5",
   "metadata": {},
   "outputs": [],
   "source": [
    "initial_state ={\n",
    "    'query': query,\n",
    "    'tax_base_equation': '과세표준 = (주택 공시가격 합산 - 공제금액) x 공정시장가액비율',\n",
    "    'tax_deduction': '주택에 대한 종합부동산세 계산시 공제금액은 1세대 1주택자의 경우 12억 원, 법인 또는 법인으로 보는 단체의 경우 ',\n",
    "    'market_ratio': '주택에 대한 종합부동산세 계산시 공정시장가액비율은 60%',\n",
    "}\n",
    "\n",
    "calculate_tax_base(initial_state)"
   ]
  },
  {
   "cell_type": "code",
   "execution_count": null,
   "id": "a77bd0bc",
   "metadata": {},
   "outputs": [],
   "source": [
    "tax_rate_calculation_prompt = PromptTemplate.from_template([\n",
    "    ('system', '당신은 종합부동산세 계산 전문가입니다. 아래 문서를 참고해서 사용자의 질문에 대한 종합부동산세를 계산해주세요\\n\\n 종합부동산세 세율:{context}'),\n",
    "    ('human','과세표준과 사용자가 소지한 주택의 수가 아래와 같을 때 종합부동산세를 계산해주세요 과세표준:{tax_base} 주택수:{query}')\n",
    "])\n",
    "\n",
    "\n",
    "def calculate_tax_rate(state: AgentState):\n",
    "    query = state['query']\n",
    "    tax_base = state['tax_base']\n",
    "    context = retriever.invoke(query)\n",
    "    tax_rate_chain = (\n",
    "        tax_rate_calculation_prompt | llm | StrOutputParser()\n",
    "    )\n",
    "\n",
    "    tax_rate = tax_rate_chain.invoke({'context':context,'tax_base':tax_base,'query':query})\n",
    "\n",
    "    print(f'tax_rate: {tax_rate}')\n",
    "    return {'tax_rate': tax_rate}"
   ]
  },
  {
   "cell_type": "code",
   "execution_count": null,
   "id": "d4a85161",
   "metadata": {},
   "outputs": [],
   "source": [
    "graph_builder.add_node('get_tax_base_equation', get_tax_base_equation)\n",
    "graph_builder.add_node('get_tax_deduction', get_tax_deduction)\n",
    "graph_builder.add_node('get_market_ratio', get_market_ratio)\n",
    "graph_builder.add_node('calculate_tax_base', calculate_tax_base)\n",
    "graph_builder.add_node('calculate_tax_rate', calculate_tax_rate)"
   ]
  },
  {
   "cell_type": "code",
   "execution_count": null,
   "id": "c0932f60",
   "metadata": {},
   "outputs": [],
   "source": [
    "from langgraph.graph import START, END\n",
    "\n",
    "graph_builder.add_edge(START,'get_tax_base_equation')\n",
    "graph_builder.add_edge(START,'get_tax_deduction')\n",
    "graph_builder.add_edge(START,'get_market_ratio')\n",
    "graph_builder.add_edge('get_tax_base_equation','calculate_tax_base')\n",
    "graph_builder.add_edge('get_tax_deduction','calculate_tax_base')\n",
    "graph_builder.add_edge('get_market_ratio','calculate_tax_base')\n",
    "graph_builder.add_edge('calculate_tax_base','calculate_tax_rate')\n",
    "graph_builder.add_edge('calculate_tax_rate',END)\n",
    "\n",
    "\n",
    "graph = graph_builder.compile()"
   ]
  },
  {
   "cell_type": "code",
   "execution_count": null,
   "id": "e8db46a8",
   "metadata": {},
   "outputs": [],
   "source": [
    "from IPython.display import Image, display\n",
    "\n",
    "display(Image(graph.get_graph().draw_mermaid_png()))"
   ]
  },
  {
   "cell_type": "code",
   "execution_count": null,
   "id": "0cab686b",
   "metadata": {},
   "outputs": [],
   "source": [
    "initial_state2 = {'query': query}\n",
    "graph.invoke(initial_state2)"
   ]
  }
 ],
 "metadata": {
  "kernelspec": {
   "display_name": ".venv",
   "language": "python",
   "name": "python3"
  },
  "language_info": {
   "codemirror_mode": {
    "name": "ipython",
    "version": 3
   },
   "file_extension": ".py",
   "mimetype": "text/x-python",
   "name": "python",
   "nbconvert_exporter": "python",
   "pygments_lexer": "ipython3",
   "version": "3.13.0"
  }
 },
 "nbformat": 4,
 "nbformat_minor": 5
}
