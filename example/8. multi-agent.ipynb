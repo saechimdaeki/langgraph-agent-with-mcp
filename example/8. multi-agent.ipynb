{
 "cells": [
  {
   "cell_type": "code",
   "execution_count": null,
   "id": "05f5537c",
   "metadata": {},
   "outputs": [],
   "source": [
    "from dotenv import load_dotenv\n",
    "\n",
    "load_dotenv()"
   ]
  },
  {
   "cell_type": "code",
   "execution_count": null,
   "id": "6866cce7",
   "metadata": {},
   "outputs": [],
   "source": [
    "from langchain_openai import AzureChatOpenAI\n",
    "\n",
    "from example.real_estate_tax_graph import small_llm\n",
    "\n",
    "llm = AzureChatOpenAI(\n",
    "    azure_deployment= 'gpt-4o-2024-11-20',\n",
    "    api_version = '2024-08-01-preview',\n",
    ")\n",
    "\n",
    "small_llm = AzureChatOpenAI(\n",
    "    azure_deployment= 'gpt-4o-mini-2024-07-18',\n",
    "    api_version='2024-08-01-preview',\n",
    ")\n"
   ]
  },
  {
   "cell_type": "code",
   "execution_count": null,
   "id": "5e6a82aa",
   "metadata": {},
   "outputs": [],
   "source": [
    "from typing_extensions import TypedDict\n",
    "from langgraph.graph import StateGraph\n",
    "\n",
    "class AgentState(TypedDict):\n",
    "    query: str\n",
    "    answer: str\n",
    "    context: list\n",
    "\n",
    "graph_builder = StateGraph(AgentState)\n",
    "    "
   ]
  },
  {
   "cell_type": "code",
   "execution_count": null,
   "id": "9a42b216",
   "metadata": {},
   "outputs": [],
   "source": [
    "from langchain_core.prompts import ChatPromptTemplate\n",
    "from pydantic import BaseModel, Field\n",
    "from typing import Literal\n",
    "\n",
    "\n",
    "class Route(BaseModel):\n",
    "    target: Literal['income_tax','llm','real_estate_taxh'] = Field(\n",
    "        description = \"The target for the query to answer\"\n",
    "    )\n",
    "\n",
    "router_system_prompt = \"\"\"\n",
    "You are an export at routing a user's question to 'vector_store', 'llm' or 'web_search'.\n",
    "'vector_store' contains information about income tax up to 2025.\n",
    "'real_estate_tax' contains information about real estate tax up to 2025.\n",
    "if you think the question is simple enought use 'llm'\n",
    "\"\"\"\n",
    "\n",
    "router_prompt = ChatPromptTemplate.from_messages([\n",
    "    ('system', router_system_prompt),\n",
    "    ('user','{query}')\n",
    "])\n",
    "\n",
    "structured_router_llm= small_llm.with_structured_output(Route)\n",
    "\n",
    "\n",
    "\n",
    "def router(state: AgentState):\n",
    "    query = state[\"query\"]\n",
    "    router_chain = router_prompt | structured_router_llm\n",
    "    route = router_chain.invoke({\"query\": query})\n",
    "    return route\n"
   ]
  },
  {
   "cell_type": "code",
   "execution_count": null,
   "id": "e036ea1d",
   "metadata": {},
   "outputs": [],
   "source": [
    "from langchain_core.output_parsers import StrOutputParser\n",
    "\n",
    "\n",
    "def call_llm(state:AgentState):\n",
    "    query = state['query']\n",
    "    llm_chain = small_llm | StrOutputParser()\n",
    "    llm_answer = llm_chain.invoke(query)\n",
    "    return {'answer':llm_answer}"
   ]
  },
  {
   "cell_type": "code",
   "execution_count": null,
   "id": "a6bfa6ea",
   "metadata": {},
   "outputs": [],
   "source": [
    "from income_tax_graph import graph as income_tax_agent\n",
    "from real_estate_tax_graph import graph as real_estate_tax_agent\n",
    "\n",
    "graph_builder.add_node('income_tax', income_tax_agent)\n",
    "graph_builder.add_node('real_estate_tax', real_estate_tax_agent)\n",
    "graph_builder.add_node('llm', call_llm)"
   ]
  },
  {
   "cell_type": "code",
   "execution_count": null,
   "id": "782b3d44",
   "metadata": {},
   "outputs": [],
   "source": [
    "from langgraph.graph import START, END\n",
    "\n",
    "graph_builder.add_conditional_edges(\n",
    "    START,\n",
    "    router,\n",
    "    {\n",
    "        'income_tax': 'income_tax',\n",
    "        'real_estate_tax': 'real_estate_tax',\n",
    "        'llm': 'llm'\n",
    "    }\n",
    ")\n",
    "\n",
    "graph_builder.add_edge('income_tax', END)\n",
    "graph_builder.add_edge('real_estate_tax', END)\n",
    "graph_builder.add_edge('llm', END)\n"
   ]
  },
  {
   "cell_type": "code",
   "execution_count": null,
   "id": "945208e9",
   "metadata": {},
   "outputs": [],
   "source": [
    "graph = graph_builder.compile()"
   ]
  },
  {
   "cell_type": "code",
   "execution_count": null,
   "id": "ac6f3926",
   "metadata": {},
   "outputs": [],
   "source": [
    "initial_state = {'query': '소득세란 무엇인가?'}\n",
    "\n",
    "graph.invoke(initial_state)\n"
   ]
  },
  {
   "cell_type": "code",
   "execution_count": null,
   "id": "0535d220",
   "metadata": {},
   "outputs": [],
   "source": [
    "initial_state = {'query': '5억짜리 집 1채, 10억짜리 집 1채, 20억짜리 집 1채를 가지고 있을 때 세금을 얼마나 내나요?'}\n",
    "\n",
    "graph.invoke(initial_state)\n"
   ]
  },
  {
   "cell_type": "code",
   "execution_count": null,
   "id": "802c1ac1",
   "metadata": {},
   "outputs": [],
   "source": [
    "initial_state = {'query': '떡볶이는 어디가 맛있나요??'}\n",
    "\n",
    "graph.invoke(initial_state)"
   ]
  }
 ],
 "metadata": {
  "language_info": {
   "name": "python"
  }
 },
 "nbformat": 4,
 "nbformat_minor": 5
}
